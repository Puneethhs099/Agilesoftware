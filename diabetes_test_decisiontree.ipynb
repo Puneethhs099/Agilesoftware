{
  "nbformat": 4,
  "nbformat_minor": 0,
  "metadata": {
    "colab": {
      "provenance": []
    },
    "kernelspec": {
      "name": "python3",
      "display_name": "Python 3"
    },
    "language_info": {
      "name": "python"
    }
  },
  "cells": [
    {
      "cell_type": "code",
      "execution_count": 2,
      "metadata": {
        "colab": {
          "base_uri": "https://localhost:8080/"
        },
        "id": "eDQeQ0BG-Lc0",
        "outputId": "f4a063aa-e941-41e7-c798-e86a69e579b8"
      },
      "outputs": [
        {
          "output_type": "stream",
          "name": "stdout",
          "text": [
            "Enter your blood glucose level: 40\n",
            "Enter your blood pressure: 85\n",
            "Negative for diabetes\n"
          ]
        }
      ],
      "source": [
        "import pandas as pd\n",
        "from sklearn.model_selection import train_test_split\n",
        "from sklearn.tree import DecisionTreeClassifier\n",
        "\n",
        "# Load the data\n",
        "data = pd.read_csv('./Data/diabetes.csv')\n",
        "\n",
        "# Split the data into features and target\n",
        "X = data.drop('diabetes', axis=1)\n",
        "y = data['diabetes']\n",
        "\n",
        "# Split the data into training and test sets\n",
        "X_train, X_test, y_train, y_test = train_test_split(X, y, test_size=0.2)\n",
        "\n",
        "# Create a Decision Tree model\n",
        "model = DecisionTreeClassifier()\n",
        "\n",
        "# Train the model\n",
        "model.fit(X_train, y_train)\n",
        "\n",
        "# Get user input for blood glucose levels and blood pressure\n",
        "glucose = float(input('Enter your blood glucose level: '))\n",
        "pressure = float(input('Enter your blood pressure: '))\n",
        "\n",
        "# Create a new data point with the user's input\n",
        "new_data = pd.DataFrame([[glucose, pressure]], columns=['glucose', 'bloodpressure'])\n",
        "\n",
        "# Make a prediction for the new data point\n",
        "prediction = model.predict(new_data)\n",
        "\n",
        "if prediction[0] == 0:\n",
        "    print('Negative for diabetes')\n",
        "else:\n",
        "    print('Positive for diabetes')\n"
      ]
    }
  ]
}